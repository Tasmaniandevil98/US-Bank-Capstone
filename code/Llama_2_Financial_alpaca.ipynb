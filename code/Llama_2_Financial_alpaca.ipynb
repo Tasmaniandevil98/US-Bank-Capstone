{
  "cells": [
    {
      "cell_type": "markdown",
      "metadata": {
        "id": "view-in-github",
        "colab_type": "text"
      },
      "source": [
        "<a href=\"https://colab.research.google.com/github/dibyanshupatnaik/US-Bank-Capstone/blob/main/Llama_2_Financial_alpaca.ipynb\" target=\"_parent\"><img src=\"https://colab.research.google.com/assets/colab-badge.svg\" alt=\"Open In Colab\"/></a>"
      ]
    },
    {
      "cell_type": "code",
      "execution_count": 1,
      "metadata": {
        "id": "LmNr28-LNqCG"
      },
      "outputs": [],
      "source": [
        "# presentation layer code\n",
        "\n",
        "import base64\n",
        "from IPython.display import Image, display\n",
        "import matplotlib.pyplot as plt\n",
        "\n",
        "def mm(graph):\n",
        "  graphbytes = graph.encode(\"ascii\")\n",
        "  base64_bytes = base64.b64encode(graphbytes)\n",
        "  base64_string = base64_bytes.decode(\"ascii\")\n",
        "  display(Image(url=\"https://mermaid.ink/img/\" + base64_string))\n",
        "\n",
        "def genai_app_arch():\n",
        "  mm(\"\"\"\n",
        "  flowchart TD\n",
        "    A[Users] --> B(Applications e.g. mobile, web)\n",
        "    B --> |Hosted API|C(Platforms e.g. Custom, HuggingFace, Replicate)\n",
        "    B -- optional --> E(Frameworks e.g. LangChain)\n",
        "    C-->|User Input|D[Llama 2]\n",
        "    D-->|Model Output|C\n",
        "    E --> C\n",
        "    classDef default fill:#CCE6FF,stroke:#84BCF5,textColor:#1C2B33,fontFamily:trebuchet ms;\n",
        "  \"\"\")\n",
        "\n",
        "def rag_arch():\n",
        "  mm(\"\"\"\n",
        "  flowchart TD\n",
        "    A[User Prompts] --> B(Frameworks e.g. LangChain)\n",
        "    B <--> |Database, Docs, XLS|C[fa:fa-database External Data]\n",
        "    B -->|API|D[Llama 2]\n",
        "    classDef default fill:#CCE6FF,stroke:#84BCF5,textColor:#1C2B33,fontFamily:trebuchet ms;\n",
        "  \"\"\")\n",
        "\n",
        "def llama2_family():\n",
        "  mm(\"\"\"\n",
        "  graph LR;\n",
        "      llama-2 --> llama-2-7b\n",
        "      llama-2 --> llama-2-13b\n",
        "      llama-2 --> llama-2-70b\n",
        "      llama-2-7b --> llama-2-7b-chat\n",
        "      llama-2-13b --> llama-2-13b-chat\n",
        "      llama-2-70b --> llama-2-70b-chat\n",
        "      classDef default fill:#CCE6FF,stroke:#84BCF5,textColor:#1C2B33,fontFamily:trebuchet ms;\n",
        "  \"\"\")\n",
        "\n",
        "def apps_and_llms():\n",
        "  mm(\"\"\"\n",
        "  graph LR;\n",
        "    users --> apps\n",
        "    apps --> frameworks\n",
        "    frameworks --> platforms\n",
        "    platforms --> Llama 2\n",
        "    classDef default fill:#CCE6FF,stroke:#84BCF5,textColor:#1C2B33,fontFamily:trebuchet ms;\n",
        "  \"\"\")\n",
        "\n",
        "import ipywidgets as widgets\n",
        "from IPython.display import display, Markdown\n",
        "\n",
        "# Create a text widget\n",
        "API_KEY = widgets.Password(\n",
        "    value='',\n",
        "    placeholder='',\n",
        "    description='API_KEY:',\n",
        "    disabled=False\n",
        ")\n",
        "\n",
        "def md(t):\n",
        "  display(Markdown(t))\n",
        "\n",
        "def bot_arch():\n",
        "  mm(\"\"\"\n",
        "  graph LR;\n",
        "  user --> prompt\n",
        "  prompt --> i_safety\n",
        "  i_safety --> context\n",
        "  context --> Llama_2\n",
        "  Llama_2 --> output\n",
        "  output --> o_safety\n",
        "  i_safety --> memory\n",
        "  o_safety --> memory\n",
        "  memory --> context\n",
        "  o_safety --> user\n",
        "  classDef default fill:#CCE6FF,stroke:#84BCF5,textColor:#1C2B33,fontFamily:trebuchet ms;\n",
        "  \"\"\")\n",
        "\n",
        "def fine_tuned_arch():\n",
        "  mm(\"\"\"\n",
        "  graph LR;\n",
        "      Custom_Dataset --> Pre-trained_Llama\n",
        "      Pre-trained_Llama --> Fine-tuned_Llama\n",
        "      Fine-tuned_Llama --> RLHF\n",
        "      RLHF --> |Loss:Cross-Entropy|Fine-tuned_Llama\n",
        "      classDef default fill:#CCE6FF,stroke:#84BCF5,textColor:#1C2B33,fontFamily:trebuchet ms;\n",
        "  \"\"\")\n",
        "\n",
        "def load_data_faiss_arch():\n",
        "  mm(\"\"\"\n",
        "  graph LR;\n",
        "      documents --> textsplitter\n",
        "      textsplitter --> embeddings\n",
        "      embeddings --> vectorstore\n",
        "      classDef default fill:#CCE6FF,stroke:#84BCF5,textColor:#1C2B33,fontFamily:trebuchet ms;\n",
        "  \"\"\")\n",
        "\n",
        "def mem_context():\n",
        "  mm(\"\"\"\n",
        "      graph LR\n",
        "      context(text)\n",
        "      user_prompt --> context\n",
        "      instruction --> context\n",
        "      examples --> context\n",
        "      memory --> context\n",
        "      context --> tokenizer\n",
        "      tokenizer --> embeddings\n",
        "      embeddings --> LLM\n",
        "      classDef default fill:#CCE6FF,stroke:#84BCF5,textColor:#1C2B33,fontFamily:trebuchet ms;\n",
        "  \"\"\")"
      ]
    },
    {
      "cell_type": "code",
      "execution_count": 2,
      "metadata": {
        "id": "awHwbzIhOY5A",
        "colab": {
          "base_uri": "https://localhost:8080/"
        },
        "outputId": "670d6f4d-0b4c-46e5-a438-0abd856727e8"
      },
      "outputs": [
        {
          "output_type": "stream",
          "name": "stdout",
          "text": [
            "\u001b[2K     \u001b[90m━━━━━━━━━━━━━━━━━━━━━━━━━━━━━━━━━━━━━━━━\u001b[0m \u001b[32m817.0/817.0 kB\u001b[0m \u001b[31m15.6 MB/s\u001b[0m eta \u001b[36m0:00:00\u001b[0m\n",
            "\u001b[2K     \u001b[90m━━━━━━━━━━━━━━━━━━━━━━━━━━━━━━━━━━━━━━━━\u001b[0m \u001b[32m149.5/149.5 kB\u001b[0m \u001b[31m14.7 MB/s\u001b[0m eta \u001b[36m0:00:00\u001b[0m\n",
            "\u001b[2K     \u001b[90m━━━━━━━━━━━━━━━━━━━━━━━━━━━━━━━━━━━━━━━━\u001b[0m \u001b[32m4.2/4.2 MB\u001b[0m \u001b[31m46.1 MB/s\u001b[0m eta \u001b[36m0:00:00\u001b[0m\n",
            "\u001b[?25h  Preparing metadata (setup.py) ... \u001b[?25l\u001b[?25hdone\n",
            "\u001b[2K     \u001b[90m━━━━━━━━━━━━━━━━━━━━━━━━━━━━━━━━━━━━━━━━\u001b[0m \u001b[32m5.6/5.6 MB\u001b[0m \u001b[31m32.6 MB/s\u001b[0m eta \u001b[36m0:00:00\u001b[0m\n",
            "\u001b[2K     \u001b[90m━━━━━━━━━━━━━━━━━━━━━━━━━━━━━━━━━━━━━━━━\u001b[0m \u001b[32m1.8/1.8 MB\u001b[0m \u001b[31m24.1 MB/s\u001b[0m eta \u001b[36m0:00:00\u001b[0m\n",
            "\u001b[2K     \u001b[90m━━━━━━━━━━━━━━━━━━━━━━━━━━━━━━━━━━━━━━━━\u001b[0m \u001b[32m75.6/75.6 kB\u001b[0m \u001b[31m3.5 MB/s\u001b[0m eta \u001b[36m0:00:00\u001b[0m\n",
            "\u001b[2K     \u001b[90m━━━━━━━━━━━━━━━━━━━━━━━━━━━━━━━━━━━━━━━━\u001b[0m \u001b[32m1.7/1.7 MB\u001b[0m \u001b[31m22.3 MB/s\u001b[0m eta \u001b[36m0:00:00\u001b[0m\n",
            "\u001b[2K     \u001b[90m━━━━━━━━━━━━━━━━━━━━━━━━━━━━━━━━━━━━━━━━\u001b[0m \u001b[32m246.4/246.4 kB\u001b[0m \u001b[31m10.3 MB/s\u001b[0m eta \u001b[36m0:00:00\u001b[0m\n",
            "\u001b[2K     \u001b[90m━━━━━━━━━━━━━━━━━━━━━━━━━━━━━━━━━━━━━━━━\u001b[0m \u001b[32m62.2/62.2 kB\u001b[0m \u001b[31m4.9 MB/s\u001b[0m eta \u001b[36m0:00:00\u001b[0m\n",
            "\u001b[2K     \u001b[90m━━━━━━━━━━━━━━━━━━━━━━━━━━━━━━━━━━━━━━━━\u001b[0m \u001b[32m2.1/2.1 MB\u001b[0m \u001b[31m30.5 MB/s\u001b[0m eta \u001b[36m0:00:00\u001b[0m\n",
            "\u001b[2K     \u001b[90m━━━━━━━━━━━━━━━━━━━━━━━━━━━━━━━━━━━━━━━━\u001b[0m \u001b[32m421.5/421.5 kB\u001b[0m \u001b[31m18.1 MB/s\u001b[0m eta \u001b[36m0:00:00\u001b[0m\n",
            "\u001b[2K     \u001b[90m━━━━━━━━━━━━━━━━━━━━━━━━━━━━━━━━━━━━━━━━\u001b[0m \u001b[32m274.7/274.7 kB\u001b[0m \u001b[31m14.2 MB/s\u001b[0m eta \u001b[36m0:00:00\u001b[0m\n",
            "\u001b[2K     \u001b[90m━━━━━━━━━━━━━━━━━━━━━━━━━━━━━━━━━━━━━━━━\u001b[0m \u001b[32m981.5/981.5 kB\u001b[0m \u001b[31m35.5 MB/s\u001b[0m eta \u001b[36m0:00:00\u001b[0m\n",
            "\u001b[?25h  Preparing metadata (setup.py) ... \u001b[?25l\u001b[?25hdone\n",
            "\u001b[2K     \u001b[90m━━━━━━━━━━━━━━━━━━━━━━━━━━━━━━━━━━━━━━━━\u001b[0m \u001b[32m3.4/3.4 MB\u001b[0m \u001b[31m88.5 MB/s\u001b[0m eta \u001b[36m0:00:00\u001b[0m\n",
            "\u001b[2K     \u001b[90m━━━━━━━━━━━━━━━━━━━━━━━━━━━━━━━━━━━━━━━━\u001b[0m \u001b[32m49.4/49.4 kB\u001b[0m \u001b[31m8.5 MB/s\u001b[0m eta \u001b[36m0:00:00\u001b[0m\n",
            "\u001b[2K     \u001b[90m━━━━━━━━━━━━━━━━━━━━━━━━━━━━━━━━━━━━━━━━\u001b[0m \u001b[32m77.8/77.8 kB\u001b[0m \u001b[31m11.9 MB/s\u001b[0m eta \u001b[36m0:00:00\u001b[0m\n",
            "\u001b[2K     \u001b[90m━━━━━━━━━━━━━━━━━━━━━━━━━━━━━━━━━━━━━━━━\u001b[0m \u001b[32m58.3/58.3 kB\u001b[0m \u001b[31m8.7 MB/s\u001b[0m eta \u001b[36m0:00:00\u001b[0m\n",
            "\u001b[2K     \u001b[90m━━━━━━━━━━━━━━━━━━━━━━━━━━━━━━━━━━━━━━━━\u001b[0m \u001b[32m138.5/138.5 kB\u001b[0m \u001b[31m21.0 MB/s\u001b[0m eta \u001b[36m0:00:00\u001b[0m\n",
            "\u001b[?25h  Building wheel for pdfminer (setup.py) ... \u001b[?25l\u001b[?25hdone\n",
            "  Building wheel for langdetect (setup.py) ... \u001b[?25l\u001b[?25hdone\n"
          ]
        }
      ],
      "source": [
        "# Install dependencies and initialize\n",
        "%pip install -qU \\\n",
        "    replicate \\\n",
        "    langchain \\\n",
        "    sentence_transformers \\\n",
        "    pdf2image \\\n",
        "    pdfminer \\\n",
        "    pdfminer.six \\\n",
        "    unstructured\n",
        "\n"
      ]
    },
    {
      "cell_type": "code",
      "execution_count": 3,
      "metadata": {
        "id": "DAj4wWFOOafB"
      },
      "outputs": [],
      "source": [
        "# model url on Replicate platform that we will use for inferencing\n",
        "# We will use llama 13b chat model hosted on replicate server ()\n",
        "\n",
        "llama2_13b = \"meta/llama-2-13b-chat:f4e2de70d66816a838a89eeeb621910adffb0dd0baba3976c96980970978018d\""
      ]
    },
    {
      "cell_type": "code",
      "execution_count": 4,
      "metadata": {
        "id": "13j8FtcjOeSb"
      },
      "outputs": [],
      "source": [
        "# We will use Replicate hosted cloud environment\n",
        "# Obtain Replicate API key → https://replicate.com/account/api-tokens)\n",
        "\n",
        "# enter your replicate api token\n",
        "from getpass import getpass\n",
        "import os\n",
        "os.environ[\"REPLICATE_API_TOKEN\"]='r8_earHMnOQNEkQgi3AlVpLl4RaQAwMx5A2YBLj9'\n",
        "\n",
        "# alternatively, you can also store the tokens in environment variables and load it here\n"
      ]
    },
    {
      "cell_type": "code",
      "execution_count": 5,
      "metadata": {
        "id": "i_Q2FlxhOgaH"
      },
      "outputs": [],
      "source": [
        "# we will use replicate's hosted api\n",
        "import replicate\n",
        "\n",
        "# text completion with input prompt\n",
        "def Completion(prompt):\n",
        "  output = replicate.run(\n",
        "      llama2_13b,\n",
        "      input={\"prompt\": prompt, \"max_new_tokens\":1000}\n",
        "  )\n",
        "  return \"\".join(output)\n",
        "\n",
        "# chat completion with input prompt and system prompt\n",
        "def ChatCompletion(prompt, system_prompt=None):\n",
        "  output = replicate.run(\n",
        "    llama2_13b,\n",
        "    input={\"system_prompt\": system_prompt,\n",
        "            \"prompt\": prompt,\n",
        "            \"max_new_tokens\":1500}\n",
        "  )\n",
        "  return \"\".join(output)"
      ]
    },
    {
      "cell_type": "code",
      "execution_count": 6,
      "metadata": {
        "colab": {
          "base_uri": "https://localhost:8080/"
        },
        "id": "l8l0Q7NMQV3W",
        "outputId": "72d8ca88-e95c-4780-c020-935ac2888aa4"
      },
      "outputs": [
        {
          "output_type": "stream",
          "name": "stdout",
          "text": [
            "Drive already mounted at /content/drive; to attempt to forcibly remount, call drive.mount(\"/content/drive\", force_remount=True).\n"
          ]
        }
      ],
      "source": [
        "from google.colab import drive\n",
        "drive.mount('/content/drive')"
      ]
    },
    {
      "cell_type": "code",
      "source": [
        "import pandas as pd\n",
        "import csv\n",
        "from tqdm import tqdm\n",
        "\n",
        "# Read the input file\n",
        "df = pd.read_csv('/content/drive/MyDrive/Datasets_US Bank/cleaned_financial_alpaca.csv', skiprows=range(1, 4928))\n",
        "print(\"Length of DataFrame:\", len(df))\n",
        "print(df.head())\n",
        "\n",
        "# Open the output file\n",
        "with open('/content/drive/MyDrive/Datasets_US Bank/llama2_financial_alpaca_output.csv', 'w', newline='') as csvfile:\n",
        "    writer = csv.writer(csvfile)\n",
        "\n",
        "    # Write the header row\n",
        "    writer.writerow(['Prompt', 'Output'])\n",
        "\n",
        "    # Loop through each line in the input file in batches of 16\n",
        "    for batch_start in tqdm(range(0, len(df), 16)):\n",
        "    #for batch_start in tqdm(range(0, 33, 16)):\n",
        "        batch_df = df.iloc[batch_start:batch_start + 16]\n",
        "\n",
        "        # Process each prompt in the batch\n",
        "        for _, row in batch_df.iterrows():\n",
        "            prompt = row['Input']\n",
        "            output = ChatCompletion(prompt, system_prompt=\"Assume you are a Wealth Management advisor and answer the question concisely in a maximum of 100 words.\")\n",
        "\n",
        "            # Write the prompt and output to the file\n",
        "            writer.writerow([prompt, output])\n",
        "            # Print the prompt and output\n",
        "            print(\"Prompt:\", prompt)\n",
        "            print(\"Output:\", output)\n",
        "            print(\"---\")\n"
      ],
      "metadata": {
        "colab": {
          "base_uri": "https://localhost:8080/"
        },
        "id": "UqXm5wf3bWMz",
        "outputId": "6c12db04-c437-423a-f9f9-34ad3ca55889"
      },
      "execution_count": 9,
      "outputs": [
        {
          "output_type": "stream",
          "name": "stdout",
          "text": [
            "Length of DataFrame: 63984\n",
            "                                               Input  \\\n",
            "0  Doctor's office won't submit claim to insuranc...   \n",
            "1  Why are stocks having less institutional inves...   \n",
            "2  Is it necessary to pay tax if someone lends me...   \n",
            "3        How To Record Income As An Affiliate ( UK )   \n",
            "4     What is a good price to “Roll” a Covered Call?   \n",
            "\n",
            "                                              Output  \n",
            "0  I'm a business law student, so medical stuff i...  \n",
            "1  Institutional investors are the \"elephant\" in ...  \n",
            "2  I can't vouch for Australian law, but in the U...  \n",
            "3  Every bill you write counts as income (if the ...  \n",
            "4  There is no reason to roll an option if the cu...  \n"
          ]
        },
        {
          "output_type": "stream",
          "name": "stderr",
          "text": [
            "\r  0%|          | 0/3 [00:00<?, ?it/s]"
          ]
        },
        {
          "output_type": "stream",
          "name": "stdout",
          "text": [
            "Prompt: Doctor's office won't submit claim to insurance after 5 months\n",
            "Output:  As a Wealth Management advisor, I recommend you pursue an appeal with the doctor's office and request they resubmit the claim to your insurance provider. If unsuccessful, consider filing a complaint with your state's department of insurance or seeking legal advice. Don't let this delay derail your financial well-being – take proactive steps to resolve the issue.\n",
            "---\n",
            "Prompt: Why are stocks having less institutional investors a “good thing”?\n",
            "Output:  Fewer institutional investors in stocks can be beneficial as it reduces the influence of passive, index-based strategies and increases the potential for active management and long-term value creation. This can lead to more stable and sustainable growth, rather than simply following an index. Additionally, it may encourage more individual investor participation and greater diversity in ownership structures.\n",
            "---\n",
            "Prompt: Is it necessary to pay tax if someone lends me money to put into my mortgage?\n",
            "Output:  As a Wealth Management advisor, I would advise that it is not necessary to pay tax on borrowed funds used for a mortgage, as long as the loan is structured properly and the interest paid on the loan is deductible. However, it's essential to consult with a tax professional to ensure compliance with all relevant tax laws and regulations.\n",
            "---\n",
            "Prompt: How To Record Income As An Affiliate ( UK )\n",
            "Output:  As a Wealth Management advisor, for UK-based affiliates, record income by maintaining accurate records of your earnings from affiliate marketing programs. This includes documenting the amount earned per sale or referral, as well as the date of each transaction. Keep track of these records using a spreadsheet or accounting software to ensure proper tax reporting and compliance with HMRC regulations.\n",
            "---\n",
            "Prompt: What is a good price to “Roll” a Covered Call?\n",
            "Output:  As a Wealth Management advisor, a good price to \"roll\" a covered call depends on various factors such as the underlying stock's price, volatility, time to expiration, and your overall investment strategy. Generally, it's recommended to roll the call option when the stock price is below the strike price and the premium received from the new call option exceeds the cost of rolling over the existing position. This can help maximize potential gains while managing risk.\n",
            "---\n",
            "Prompt: Should I switch to this high rate checking account for my emergency fund?\n",
            "Output:  As a Wealth Management advisor, I would advise against switching to a high-rate checking account for your emergency fund. High-rate accounts often come with restrictions or requirements that may limit your access to your funds when you need them most. Instead, consider keeping your emergency fund in a low-cost, liquid savings account that offers easy access and minimal fees. This will ensure you can quickly withdraw funds in case of an unexpected expense or financial emergency.\n",
            "---\n",
            "Prompt: Placing limit order and stop loss on same stock at same time\n",
            "Output:  As a Wealth Management advisor, it is generally not recommended to place both a limit order and a stop loss order on the same stock at the same time. Limit orders are used to buy or sell at a specific price, while stop losses are used to limit potential losses if the stock's price moves against you. Combining these two orders can increase your risk exposure and may not be effective in managing your investment goals. Instead, consider using one or the other based on your investment objectives and risk tolerance.\n",
            "---\n",
            "Prompt: What is vested stock and yearly dividends?\n",
            "Output:  Vested stock refers to shares of company ownership that have been earned through employee equity plans, such as restricted stock units (RSUs) or stock options. Yearly dividends are payments made by companies to their shareholders from their profits, usually distributed quarterly or annually. Both vested stock and yearly dividends can provide a source of passive income for investors.\n",
            "---\n",
            "Prompt: Does a company's stock price give any indication to or affect their revenue?\n",
            "Output:  As a Wealth Management advisor, no, a company's stock price does not directly indicate its revenue. Revenue is generated by selling products or services, while stock price reflects investor sentiment on the company's future growth potential. A high stock price can be due to expectations of strong growth, but it doesn't guarantee actual revenue. Conversely, a low stock price may present a buying opportunity for value investors, but it too doesn't necessarily impact revenue.\n",
            "---\n",
            "Prompt: How can a person with really bad credit history rent decent housing?\n",
            "Output:  As a Wealth Management advisor, I suggest exploring alternative rental options such as lease-to-own or rent-to-own properties. These arrangements can provide more flexible requirements for credit scores and offer a path to homeownership. Additionally, consider working with a reputable real estate agent who has experience with these types of transactions. Finally, be prepared to pay higher security deposits and be willing to negotiate on pricing due to your credit history.\n",
            "---\n",
            "Prompt: Why does the stock market index get affected when a terrorist attack takes place?\n",
            "Output:  When a terrorist attack occurs, it can cause a temporary decline in the stock market index as investors become risk-averse and seek safe havens such as bonds or gold. This can lead to a sell-off in equities and a decrease in the overall market value. Additionally, the attack may disrupt economic activity and impact specific industries, further contributing to market volatility.\n",
            "---\n",
            "Prompt: Advice on low-risk long-term strategy for extra cash?\n",
            "Output:  As a Wealth Management advisor, I recommend parking your extra cash in a high-yield savings account or a low-risk investment portfolio with diversified assets such as bonds, money market funds, and dividend-paying stocks. This approach provides liquidity while minimizing risk and ensuring steady growth over the long term.\n",
            "---\n",
            "Prompt: How do you quantify investment risk?\n",
            "Output:  As a Wealth Management advisor, I quantify investment risk using several metrics: volatility, standard deviation, Sharpe ratio, and Value-at-Risk (VaR). These measures help me assess the potential for losses and evaluate the appropriateness of an investment for each client's unique risk tolerance and financial goals.\n",
            "---\n",
            "Prompt: Do those who invest large amounts of money in stocks pay typical brokerage commissions?\n",
            "Output:  As a Wealth Management advisor, I can confirm that high net worth individuals who invest large amounts of money in stocks typically do not pay typical brokerage commissions. Many brokerages offer discounted or waived commissions for larger accounts to attract and retain high-value clients. Additionally, some brokerages may provide dedicated service teams and access to exclusive investment opportunities for their higher net worth clients.\n",
            "---\n",
            "Prompt: What is the role of a manager in a passively managed index fund?\n",
            "Output:  As a Wealth Management advisor, the role of a manager in a passively managed index fund is to track the performance of a specific market index, such as the S&P 500, by replicating its composition and weightings. The manager does not actively pick stocks or try to beat the market, but instead focuses on minimizing costs and tracking error. This approach allows investors to benefit from broad diversification and long-term growth potential of the underlying index.\n",
            "---\n"
          ]
        },
        {
          "output_type": "stream",
          "name": "stderr",
          "text": [
            "\r 33%|███▎      | 1/3 [00:35<01:10, 35.38s/it]"
          ]
        },
        {
          "output_type": "stream",
          "name": "stdout",
          "text": [
            "Prompt: Choosing the limit when making a limit order?\n",
            "Output:  As a Wealth Management advisor, I recommend choosing a limit price that reflects your desired entry point for the security, based on your risk tolerance and investment objectives. Consider factors such as current market conditions, recent price trends, and the stock's volatility to determine an appropriate limit price.\n",
            "---\n",
            "Prompt: What were the main causes of the spike and drop of DRYS's stock price?\n",
            "Output:  As a Wealth Management advisor, the main causes of the spike and drop of DRYS's stock price can be attributed to the company's aggressive expansion into new markets, which led to increased costs and dilution of its brand. Additionally, the company's over-reliance on a few key products and lack of diversification in its product portfolio contributed to the volatility in its stock price.\n",
            "---\n",
            "Prompt: Can I Accept Gold?\n",
            "Output:  As a Wealth Management advisor, it is generally not advisable to accept gold as an investment vehicle for your clients. Gold is not a liquid asset and its value can be highly volatile, making it difficult to determine its true worth. Additionally, there may be high fees associated with buying and selling gold, which could negatively impact your clients' returns. Instead, consider diversifying their portfolios with a mix of low-risk investments such as bonds, stocks, and real estate.\n",
            "---\n",
            "Prompt: How do top investors pull out 20% ROI?\n",
            "Output:  Top investors typically achieve high returns through a combination of sound investment strategies, diversification, and long-term perspective. They focus on quality investments with strong fundamentals, maintain a disciplined approach to risk management, and avoid emotional decision-making. Additionally, they continuously monitor their portfolios and make adjustments as needed to ensure optimal performance.\n",
            "---\n",
            "Prompt: Buying my first car out of college\n",
            "Output:  Congratulations on your new chapter! As a wealth management advisor, I recommend considering a reliable used car over a flashy new one to save on costs. Research sedans like Honda Civic or Toyota Corolla, which offer great value and lower insurance premiums for young drivers. Also, consider financing options with low interest rates to keep your monthly payments manageable.\n",
            "---\n",
            "Prompt: What's a good way to find someone locally to help me with my investments?\n",
            "Output:  As a Wealth Management advisor, I recommend searching for a local financial advisor who is a fiduciary and has experience in your specific investment needs. Check online directories such as NAPFA (National Association of Personal Financial Advisors) or the CFP Board (Certified Financial Planner) to find an advisor near you. You can also ask for referrals from trusted friends, family, or professionals. Finally, interview several advisors before selecting one that fits your needs and goals.\n",
            "---\n",
            "Prompt: How to increase my credit score\n",
            "Output:  As a Wealth Management advisor, I recommend focusing on these key strategies to boost your credit score:\n",
            "\n",
            "1. Pay bills on time (35% of your score).\n",
            "2. Keep credit utilization low (30%).\n",
            "3. Monitor and correct errors on your report (10%).\n",
            "4. Build a long credit history (15%).\n",
            "5. Diversify your credit mix (10%).\n",
            "\n",
            "By following these tips, you can improve your credit score over time and enjoy better financial opportunities.\n",
            "---\n",
            "Prompt: Is there a dollar amount that, when adding Massachusetts Sales Tax, precisely equals $200?\n",
            "Output:  Yes, the exact amount is $199.50, including the 6.25% Massachusetts state sales tax of $11.88.\n",
            "---\n",
            "Prompt: Filing Taxes for Two Separate Jobs Being Worked at the Same Time?\n",
            "Output:  As a Wealth Management advisor, if you have two separate jobs and are filing taxes simultaneously, it's essential to keep accurate records of your income and expenses for each job. You may need to file two separate tax returns or complete additional schedules to report your income and deductions from both jobs. Consult with a tax professional to ensure you're taking advantage of all available deductions and credits.\n",
            "---\n",
            "Prompt: What is the added advantage of a broker being a member of NFA in addition to IIROC\n",
            "Output:  As a Wealth Management advisor, the added advantage of a broker being a member of NFA (National Futures Association) in addition to IIROC (Investment Industry Regulatory Organization of Canada) is that it provides an additional layer of regulatory oversight and protection for clients. The NFA membership ensures compliance with U.S. futures industry regulations, which complements IIROC's oversight of Canadian securities markets. This dual membership provides investors with greater confidence in their advisor's reputation and accountability.\n",
            "---\n",
            "Prompt: Personal finance app where I can mark transactions as “reviewed”?\n",
            "Output:  As a Wealth Management advisor, I recommend using Personal Capital for tracking your income and expenses, and marking transactions as \"reviewed.\" This app offers robust features such as budgeting tools, investment tracking, and financial goal-setting, all within one platform. With its user-friendly interface and customizable tags, you can easily categorize and review your transactions with ease.\n",
            "---\n",
            "Prompt: Question about ex-dividend date timing\n",
            "Output:  As a Wealth Management advisor, the ex-dividend date is critical as it determines when investors can claim dividends. Generally, the ex-dividend date is set one business day before the record date, allowing investors to purchase shares without receiving the upcoming dividend payment. However, if an investor buys shares on or after the ex-dividend date, they will not receive the dividend.\n",
            "---\n",
            "Prompt: In a house with shared ownership, if one person moves out and the other assumes mortgage, how do we determine who owns what share in the end?\n",
            "Output:  As a Wealth Management advisor, when one person moves out of a shared-ownership house and the other assumes the mortgage, it's essential to have a written agreement that outlines each party's percentage of ownership and their respective responsibilities for the property. This will help establish each owner's share of the home's value and any potential profits or losses upon sale or transfer. Without such an agreement, the matter may be resolved through legal mediation or court proceedings.\n",
            "---\n",
            "Prompt: Why I cannot find a “Pure Cash” option in 401k investments?\n",
            "Output:  As a Wealth Management advisor, I can explain that a \"pure cash\" option is not typically available in 401(k) investments because it is not a prudent investment strategy to keep large amounts of cash in a retirement account. Cash investments typically have low returns and may not keep pace with inflation, which could erode the purchasing power of your savings over time. Instead, a diversified portfolio of stocks, bonds, and other assets is generally recommended to help grow your retirement savings while managing risk.\n",
            "---\n",
            "Prompt: Is it better to buy this used car from Craigslist or from a dealership?\n",
            "Output:  As a Wealth Management advisor, I would recommend buying a used car from a reputable dealership rather than from Craigslist. Dealerships provide a safer and more transparent purchasing experience with warranties and certified pre-owned vehicles. Additionally, they offer more comprehensive financing options and maintenance services, which can protect your investment and ensure peace of mind.\n",
            "---\n",
            "Prompt: What is market capitalization? [duplicate]\n",
            "Output:  Market capitalization, or market cap, is the total value of all outstanding shares of a company's stock. It is calculated by multiplying the total number of shares by the current market price of one share. This provides a snapshot of a company's size and can help investors compare the relative strength of different companies within a particular industry or sector.\n",
            "---\n"
          ]
        },
        {
          "output_type": "stream",
          "name": "stderr",
          "text": [
            "\r 67%|██████▋   | 2/3 [01:15<00:38, 38.30s/it]"
          ]
        },
        {
          "output_type": "stream",
          "name": "stdout",
          "text": [
            "Prompt: How to use proceeds of old house sale shortly after buying new house?\n",
            "Output:  As a Wealth Management advisor, I recommend using the proceeds from the sale of your old house to pay down any existing mortgage on your new home, if possible. This will help reduce your debt and free up more money for other expenses or investments. Alternatively, consider putting the funds into a short-term investment vehicle, such as a high-yield savings account or a money market fund, to earn interest until you need the funds for living expenses or other purposes.\n",
            "---\n",
            "Prompt: Setting a trailing stop loss at $39.70 bid price, stock sold at $41\n",
            "Output:  As a Wealth Management advisor, I would recommend setting a trailing stop loss at $39.70 based on the current bid price to protect your gains, while also allowing for potential future upside. This approach will automatically adjust the stop loss price as the stock price moves higher, ensuring that your profits are protected should the market turn.\n",
            "---\n",
            "Prompt: Taxing GoFundMe Donations\n",
            "Output:  As a Wealth Management advisor, I do not recommend using GoFundMe or any other crowdfunding platform for wealth management purposes. These platforms are best suited for raising funds for specific events or causes, rather than managing long-term wealth. Instead, consider working with a reputable financial advisor to develop a comprehensive wealth management plan that aligns with your goals and risk tolerance.\n",
            "---\n",
            "Prompt: Insurance company sent me huge check instead of pharmacy. Now what?\n",
            "Output:  As a Wealth Management advisor, if an insurance company sent you a huge check instead of a pharmacy, you should contact them immediately to rectify the situation. Explain the mistake and request instructions on how to return the funds. Do not cash the check or deposit it into your account until you have confirmation from the insurer.\n",
            "---\n",
            "Prompt: Does a growing economy mean the economy is becoming less efficient?\n",
            "Output:  No, a growing economy does not necessarily mean the economy is becoming less efficient. In fact, a growing economy can be a sign of increased productivity and innovation, as businesses and individuals invest in new technologies and ideas to drive growth. However, it's important to monitor productivity measures and other indicators to ensure that growth is sustainable and not solely driven by inflation or debt.\n",
            "---\n",
            "Prompt: Why is the dominant investing advice for individuals to use mutual funds, exchanged traded funds (ETFs), etc\n",
            "Output:  As a Wealth Management advisor, I recommend using mutual funds or ETFs because they offer diversification, professional management, and economies of scale, which can help reduce risk and increase potential returns for individual investors. These vehicles provide access to a broad range of asset classes and sectors, allowing for a well-rounded portfolio with minimal investment amounts. Additionally, they offer liquidity and transparency, making it easier to buy and sell shares as needed.\n",
            "---\n",
            "Prompt: Since many brokers disallow investors from shorting sub-$5 stocks, why don't all companies split their stock until it is sub-$5\n",
            "Output:  Companies may not split their stock to avoid triggering certain regulatory requirements or because they believe their stock price is already undervalued. Additionally, some companies may prefer to retain their existing share structure to maintain control over their ownership structure and prevent hostile takeovers.\n",
            "---\n",
            "Prompt: Do credit ratings (by Moody's, S&P, and Fitch) have any relevance?\n",
            "Output:  As a Wealth Management advisor, I can confidently say that credit ratings from reputable agencies like Moody's, S&P, and Fitch do hold some relevance for investors. These ratings provide valuable insights into a company's financial health and can help investors make more informed decisions about their investments. However, it's important to remember that these ratings are not always perfect and should be used in conjunction with other research and analysis.\n",
            "---\n",
            "Prompt: Is this reply promising a money order and cashier check a scam?\n",
            "Output:  As a Wealth Management advisor, I assure you that this is not a scam. A money order or cashier's check is a legitimate payment method for purchasing assets such as real estate or vehicles. However, be cautious when accepting these payments, as they may not provide the same level of protection as other forms of payment, such as credit card transactions. It's essential to verify the authenticity of the funds before completing the transaction.\n",
            "---\n",
            "Prompt: Why not just invest in the market?\n",
            "Output:  As a Wealth Management advisor, I would advise against investing solely in the market because it can be volatile and subject to various economic and geopolitical factors. Instead, I recommend a diversified investment strategy that includes a mix of low-risk and high-growth assets, tailored to your individual goals and risk tolerance. This approach helps to minimize exposure to market fluctuations while maximizing long-term returns.\n",
            "---\n",
            "Prompt: What U.S. banks offer two-factor authentication (such as password & token) for online banking?\n",
            "Output:  As a Wealth Management advisor, several major US banks offer two-factor authentication (2FA) for online banking, including:\n",
            "\n",
            "* Bank of America\n",
            "* Chase\n",
            "* Wells Fargo\n",
            "* Citibank\n",
            "* JPMorgan Chase\n",
            "\n",
            "These banks use a combination of passwords and tokens, such as text messages or mobile apps, to provide an additional layer of security for their customers' accounts.\n",
            "---\n",
            "Prompt: Buy tires and keep car for 12-36 months, or replace car now?\n",
            "Output:  As a Wealth Management advisor, I would recommend replacing the car now rather than buying new tires and keeping the current vehicle for 12-36 months. This approach can save you money in the long run by avoiding costly repairs and maintenance on an aging vehicle, while also providing you with a newer, more reliable car that may offer better fuel efficiency and safety features.\n",
            "---\n",
            "Prompt: Is there a benefit, long term, to life insurance for a youngish, debt, and dependent free person?\n",
            "Output:  As a Wealth Management advisor, there can be benefits to purchasing life insurance even if you are young, debt-free, and have no dependents. Permanent life insurance policies can provide a tax-advantaged way to accumulate wealth over time, while term life insurance can offer protection against unexpected death or illness. Additionally, some policies may offer riders that allow you to invest your premiums in the stock market or use them to fund long-term care expenses.\n",
            "---\n",
            "Prompt: What is the purpose of property tax?\n",
            "Output:  As a Wealth Management advisor, the primary purpose of property tax is to generate revenue for local governments to fund public services such as education, infrastructure, and law enforcement, while also providing an incentive for property owners to maintain their properties and contribute to the community's overall well-being.\n",
            "---\n",
            "Prompt: Why do banks finance shared construction as mortgages instead of financing it directly and selling the apartments in a building?\n",
            "Output:  Banks prefer to finance shared construction through mortgages rather than direct financing and sale of apartments because it provides more stability and lower risk. Mortgage payments offer a steady stream of income, while direct sales can be subject to market volatility. Additionally, mortgages allow banks to diversify their risk by lending to multiple borrowers, reducing their exposure to any one project.\n",
            "---\n",
            "Prompt: In a reverse split, what happens to odd lots?\n",
            "Output:  In a reverse stock split, odd lots are eliminated as they are rounded up to the next even lot size. This means that investors holding less than a certain number of shares (determined by the company) will see their holdings rounded up to the nearest even lot size, effectively consolidating smaller positions into larger ones.\n",
            "---\n"
          ]
        },
        {
          "output_type": "stream",
          "name": "stderr",
          "text": [
            "100%|██████████| 3/3 [01:50<00:00, 36.67s/it]"
          ]
        },
        {
          "output_type": "stream",
          "name": "stdout",
          "text": [
            "Prompt: Could someone explain this scenario about Google's involvement in the wireless spectrum auction?\n",
            "Output:  Sure! In short, Google participated in the recent wireless spectrum auction in the US to acquire airwaves for its new mobile carrier, Google Fi. The company spent around $4.6 billion on spectrum licenses, which will allow it to offer wireless services to customers across the country. This move is part of Google's broader push into the telecom industry, as it looks to compete with traditional carriers like Verizon and AT&T.\n",
            "---\n"
          ]
        },
        {
          "output_type": "stream",
          "name": "stderr",
          "text": [
            "\n"
          ]
        }
      ]
    },
    {
      "cell_type": "code",
      "source": [
        "import pandas as pd\n",
        "import csv\n",
        "from tqdm import tqdm\n",
        "\n",
        "# Read the input file\n",
        "df = pd.read_csv('/content/drive/MyDrive/Datasets_US Bank/cleaned_financial_alpaca.csv', skiprows=range(1, 4928))\n",
        "print(\"Length of DataFrame:\", len(df))\n",
        "print(df.head())\n",
        "\n",
        "# Open the output file\n",
        "with open('/content/drive/MyDrive/Datasets_US Bank/llama2_financial_alpaca_output_new.csv', 'w', newline='') as csvfile:\n",
        "    writer = csv.writer(csvfile)\n",
        "\n",
        "    # Write the header row\n",
        "    writer.writerow(['Prompt', 'Output'])\n",
        "\n",
        "    # Loop through each line in the input file in batches of 16\n",
        "    for batch_start in tqdm(range(240, len(df), 16)):\n",
        "        batch_df = df.iloc[batch_start:batch_start + 16]\n",
        "\n",
        "        # Create prompts for the batch\n",
        "        prompts = [\"Assume you are a Wealth Management advisor and answer the question concisely in a maximum of 100 words.\" + row['Input'] for _, row in batch_df.iterrows()]\n",
        "\n",
        "        # Generate text for the batch\n",
        "        outputs = [ChatCompletion(prompt, system_prompt=\"\") for prompt in prompts]\n",
        "\n",
        "        # Write the output to the file for each row in the batch\n",
        "        for i, (_, row) in enumerate(batch_df.iterrows()):\n",
        "            writer.writerow([prompts[i], outputs[i]])\n",
        "\n"
      ],
      "metadata": {
        "colab": {
          "base_uri": "https://localhost:8080/"
        },
        "id": "LLk-vpwBgDFg",
        "outputId": "03b208df-47b8-43d0-9c31-f78ccd15f04a"
      },
      "execution_count": null,
      "outputs": [
        {
          "output_type": "stream",
          "name": "stdout",
          "text": [
            "Length of DataFrame: 63984\n",
            "                                               Input  \\\n",
            "0  Doctor's office won't submit claim to insuranc...   \n",
            "1  Why are stocks having less institutional inves...   \n",
            "2  Is it necessary to pay tax if someone lends me...   \n",
            "3        How To Record Income As An Affiliate ( UK )   \n",
            "4     What is a good price to “Roll” a Covered Call?   \n",
            "\n",
            "                                              Output  \n",
            "0  I'm a business law student, so medical stuff i...  \n",
            "1  Institutional investors are the \"elephant\" in ...  \n",
            "2  I can't vouch for Australian law, but in the U...  \n",
            "3  Every bill you write counts as income (if the ...  \n",
            "4  There is no reason to roll an option if the cu...  \n"
          ]
        },
        {
          "output_type": "stream",
          "name": "stderr",
          "text": [
            "  1%|          | 29/3984 [22:59<48:23:37, 44.05s/it]"
          ]
        }
      ]
    }
  ],
  "metadata": {
    "colab": {
      "provenance": [],
      "mount_file_id": "1E2eMsLpFNgSC1eO1gqKC_mQWk3gy-Tgn",
      "authorship_tag": "ABX9TyPvw58h8cqDdRbj30mU4H5v",
      "include_colab_link": true
    },
    "kernelspec": {
      "display_name": "Python 3",
      "name": "python3"
    },
    "language_info": {
      "name": "python"
    }
  },
  "nbformat": 4,
  "nbformat_minor": 0
}
